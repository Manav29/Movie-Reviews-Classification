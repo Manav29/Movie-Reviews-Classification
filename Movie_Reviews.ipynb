{
  "nbformat": 4,
  "nbformat_minor": 0,
  "metadata": {
    "kernelspec": {
      "display_name": "Python 3",
      "language": "python",
      "name": "python3"
    },
    "language_info": {
      "codemirror_mode": {
        "name": "ipython",
        "version": 3
      },
      "file_extension": ".py",
      "mimetype": "text/x-python",
      "name": "python",
      "nbconvert_exporter": "python",
      "pygments_lexer": "ipython3",
      "version": "3.7.1"
    },
    "colab": {
      "name": "2. Movie Reviews.ipynb",
      "provenance": [],
      "include_colab_link": true
    }
  },
  "cells": [
    {
      "cell_type": "markdown",
      "metadata": {
        "id": "view-in-github",
        "colab_type": "text"
      },
      "source": [
        "<a href=\"https://colab.research.google.com/github/Manav29/Movie-Reviews-Classification/blob/master/Movie_Reviews.ipynb\" target=\"_parent\"><img src=\"https://colab.research.google.com/assets/colab-badge.svg\" alt=\"Open In Colab\"/></a>"
      ]
    },
    {
      "cell_type": "code",
      "metadata": {
        "id": "xzuYQdED7NVf",
        "colab_type": "code",
        "colab": {}
      },
      "source": [
        "from nltk.corpus import movie_reviews"
      ],
      "execution_count": 0,
      "outputs": []
    },
    {
      "cell_type": "code",
      "metadata": {
        "id": "WUyyPqeU7NVj",
        "colab_type": "code",
        "colab": {
          "base_uri": "https://localhost:8080/",
          "height": 35
        },
        "outputId": "874ab643-829e-4f1b-c910-7827fc7cea07"
      },
      "source": [
        "movie_reviews.categories()"
      ],
      "execution_count": 4,
      "outputs": [
        {
          "output_type": "execute_result",
          "data": {
            "text/plain": [
              "['neg', 'pos']"
            ]
          },
          "metadata": {
            "tags": []
          },
          "execution_count": 4
        }
      ]
    },
    {
      "cell_type": "code",
      "metadata": {
        "id": "n2g82kcb7NVo",
        "colab_type": "code",
        "colab": {}
      },
      "source": [
        "movie_reviews.fileids();     #1st 1000 are Neg, Last 1000 are Pos"
      ],
      "execution_count": 0,
      "outputs": []
    },
    {
      "cell_type": "code",
      "metadata": {
        "id": "icbEoiVg7NVr",
        "colab_type": "code",
        "colab": {
          "base_uri": "https://localhost:8080/",
          "height": 35
        },
        "outputId": "44ec56fb-9684-4313-c44b-e12cdd26c18d"
      },
      "source": [
        "movie_reviews.words(movie_reviews.fileids()[5])"
      ],
      "execution_count": 6,
      "outputs": [
        {
          "output_type": "execute_result",
          "data": {
            "text/plain": [
              "['capsule', ':', 'in', '2176', 'on', 'the', 'planet', ...]"
            ]
          },
          "metadata": {
            "tags": []
          },
          "execution_count": 6
        }
      ]
    },
    {
      "cell_type": "code",
      "metadata": {
        "id": "r3wrmfp-7NVv",
        "colab_type": "code",
        "colab": {}
      },
      "source": [
        "documents = []\n",
        "for category in movie_reviews.categories():\n",
        "    for fileId in movie_reviews.fileids(category):\n",
        "        documents.append( (movie_reviews.words(fileId),category) )"
      ],
      "execution_count": 0,
      "outputs": []
    },
    {
      "cell_type": "code",
      "metadata": {
        "id": "eF7MiiBB7NVy",
        "colab_type": "code",
        "colab": {
          "base_uri": "https://localhost:8080/",
          "height": 104
        },
        "outputId": "5f3287bb-4abf-4205-b7e8-b1848f7554dd"
      },
      "source": [
        "#For Easy Train Test Split\n",
        "import random\n",
        "random.shuffle(documents)\n",
        "documents[:5]"
      ],
      "execution_count": 8,
      "outputs": [
        {
          "output_type": "execute_result",
          "data": {
            "text/plain": [
              "[(['jay', 'and', 'silent', 'bob', 'strike', 'back', ',', ...], 'pos'),\n",
              " (['robin', 'williams', 'is', 'a', 'comedic', 'genus', ...], 'neg'),\n",
              " (['as', 'with', 'his', 'other', 'stateside', 'releases', ...], 'pos'),\n",
              " (['wesley', 'snipes', 'is', 'a', 'master', 'of', ...], 'neg'),\n",
              " (['a', 'sci', 'fi', '/', 'comedy', 'starring', 'jack', ...], 'pos')]"
            ]
          },
          "metadata": {
            "tags": []
          },
          "execution_count": 8
        }
      ]
    },
    {
      "cell_type": "code",
      "metadata": {
        "id": "QDNz00KA7NV0",
        "colab_type": "code",
        "colab": {}
      },
      "source": [
        "from nltk.stem import WordNetLemmatizer\n",
        "lemmatizer = WordNetLemmatizer()"
      ],
      "execution_count": 0,
      "outputs": []
    },
    {
      "cell_type": "code",
      "metadata": {
        "id": "tg5Q4d_p7NV4",
        "colab_type": "code",
        "colab": {}
      },
      "source": [
        "from nltk.corpus import wordnet\n",
        "from nltk import pos_tag\n",
        "\n",
        "def get_simpler_pos(tag):\n",
        "    if tag.startswith('J'):\n",
        "        return wordnet.ADJ\n",
        "    elif tag.startswith('V'):\n",
        "        return wordnet.VERB\n",
        "    elif tag.startswith('R'):\n",
        "        return wordnet.ADV\n",
        "    else:\n",
        "        return wordnet.NOUN"
      ],
      "execution_count": 0,
      "outputs": []
    },
    {
      "cell_type": "code",
      "metadata": {
        "id": "wnkxWMrs7NV7",
        "colab_type": "code",
        "colab": {}
      },
      "source": [
        "from nltk.corpus import stopwords\n",
        "stops = stopwords.words('english')\n",
        "\n",
        "import string\n",
        "punctuations = list(string.punctuation)         \n",
        "\n",
        "stops+=punctuations"
      ],
      "execution_count": 0,
      "outputs": []
    },
    {
      "cell_type": "code",
      "metadata": {
        "id": "HiBeGFOf7NV9",
        "colab_type": "code",
        "colab": {}
      },
      "source": [
        "def clean_review(words):\n",
        "    output_words = []\n",
        "    for w in words:\n",
        "        if w.lower() not in stops:\n",
        "            pos = pos_tag([w])\n",
        "            clean_word = lemmatizer.lemmatize(w,get_simpler_pos(pos[0][1]))\n",
        "            output_words.append(clean_word.lower())\n",
        "    return output_words"
      ],
      "execution_count": 0,
      "outputs": []
    },
    {
      "cell_type": "code",
      "metadata": {
        "id": "m1RB_XGk7NWB",
        "colab_type": "code",
        "colab": {
          "base_uri": "https://localhost:8080/",
          "height": 208
        },
        "outputId": "94c2fea5-2822-4b54-961e-eaf2476bcede"
      },
      "source": [
        "#Clean for all 2000 reviews in the document\n",
        "documents = [ (clean_review(document),category) for document,category in documents]\n",
        "documents[0][0][:10],documents[0][-1]           #See Tail"
      ],
      "execution_count": 27,
      "outputs": [
        {
          "output_type": "execute_result",
          "data": {
            "text/plain": [
              "(['jay',\n",
              "  'silent',\n",
              "  'bob',\n",
              "  'strike',\n",
              "  'back',\n",
              "  'kevin',\n",
              "  'smith',\n",
              "  'swan',\n",
              "  'song',\n",
              "  'two'],\n",
              " 'pos')"
            ]
          },
          "metadata": {
            "tags": []
          },
          "execution_count": 27
        }
      ]
    },
    {
      "cell_type": "code",
      "metadata": {
        "id": "pZDSMrtc7NWE",
        "colab_type": "code",
        "colab": {
          "base_uri": "https://localhost:8080/",
          "height": 35
        },
        "outputId": "41beadf5-aa33-4843-d4dd-afc5c3e6d41d"
      },
      "source": [
        "len(documents)"
      ],
      "execution_count": 28,
      "outputs": [
        {
          "output_type": "execute_result",
          "data": {
            "text/plain": [
              "2000"
            ]
          },
          "metadata": {
            "tags": []
          },
          "execution_count": 28
        }
      ]
    },
    {
      "cell_type": "code",
      "metadata": {
        "id": "UvhKf_Vu7NWG",
        "colab_type": "code",
        "colab": {}
      },
      "source": [
        "training_documents = documents[:1500]\n",
        "testing_documents = documents[1500:]"
      ],
      "execution_count": 0,
      "outputs": []
    },
    {
      "cell_type": "code",
      "metadata": {
        "id": "H13Y7GV77NWI",
        "colab_type": "code",
        "colab": {
          "base_uri": "https://localhost:8080/",
          "height": 35
        },
        "outputId": "f3385267-b5ce-4fe7-a74e-2e77392b7525"
      },
      "source": [
        "all_words = []\n",
        "for i in training_documents:\n",
        "    all_words.extend(i[0])\n",
        "\n",
        "len(all_words)\n",
        "#all_words"
      ],
      "execution_count": 30,
      "outputs": [
        {
          "output_type": "execute_result",
          "data": {
            "text/plain": [
              "534696"
            ]
          },
          "metadata": {
            "tags": []
          },
          "execution_count": 30
        }
      ]
    },
    {
      "cell_type": "code",
      "metadata": {
        "id": "JEEy3gHR7NWL",
        "colab_type": "code",
        "colab": {
          "base_uri": "https://localhost:8080/",
          "height": 451
        },
        "outputId": "94b550b8-660d-4d78-a543-bce885659650"
      },
      "source": [
        "import nltk\n",
        "freq = nltk.FreqDist(all_words)\n",
        "common = freq.most_common(3000)            #List of Tuples (word,freq). We only need the words\n",
        "features = [i[0] for i in common]\n",
        "features[:25]"
      ],
      "execution_count": 33,
      "outputs": [
        {
          "output_type": "execute_result",
          "data": {
            "text/plain": [
              "['film',\n",
              " 'movie',\n",
              " 'one',\n",
              " 'make',\n",
              " 'like',\n",
              " 'character',\n",
              " 'get',\n",
              " 'see',\n",
              " 'go',\n",
              " 'time',\n",
              " 'well',\n",
              " 'scene',\n",
              " 'even',\n",
              " 'good',\n",
              " 'story',\n",
              " 'take',\n",
              " 'would',\n",
              " 'much',\n",
              " 'bad',\n",
              " 'also',\n",
              " 'come',\n",
              " 'give',\n",
              " 'life',\n",
              " 'two',\n",
              " 'way']"
            ]
          },
          "metadata": {
            "tags": []
          },
          "execution_count": 33
        }
      ]
    },
    {
      "cell_type": "code",
      "metadata": {
        "id": "zmbrvwpr7NWP",
        "colab_type": "code",
        "colab": {}
      },
      "source": [
        "def get_features_dict(words):\n",
        "    new_features = {}\n",
        "    for w in features:\n",
        "        new_features[w] = w in words        #Boolean\n",
        "    return new_features"
      ],
      "execution_count": 0,
      "outputs": []
    },
    {
      "cell_type": "code",
      "metadata": {
        "id": "8mOI0T0F7NWS",
        "colab_type": "code",
        "colab": {
          "base_uri": "https://localhost:8080/",
          "height": 451
        },
        "outputId": "ead41aa9-59c1-45f5-ad00-5cc839a76cae"
      },
      "source": [
        "#(get_features_dict(training_documents[0][0]))\n",
        "import itertools  \n",
        "dict(itertools.islice((get_features_dict(training_documents[0][0])).items(), 25))"
      ],
      "execution_count": 43,
      "outputs": [
        {
          "output_type": "execute_result",
          "data": {
            "text/plain": [
              "{'also': False,\n",
              " 'bad': False,\n",
              " 'character': True,\n",
              " 'come': True,\n",
              " 'even': True,\n",
              " 'film': True,\n",
              " 'get': True,\n",
              " 'give': True,\n",
              " 'go': True,\n",
              " 'good': False,\n",
              " 'life': False,\n",
              " 'like': True,\n",
              " 'make': True,\n",
              " 'movie': True,\n",
              " 'much': False,\n",
              " 'one': True,\n",
              " 'scene': False,\n",
              " 'see': True,\n",
              " 'story': True,\n",
              " 'take': False,\n",
              " 'time': True,\n",
              " 'two': True,\n",
              " 'way': False,\n",
              " 'well': True,\n",
              " 'would': True}"
            ]
          },
          "metadata": {
            "tags": []
          },
          "execution_count": 43
        }
      ]
    },
    {
      "cell_type": "code",
      "metadata": {
        "id": "PsVoUjMC7NWU",
        "colab_type": "code",
        "colab": {}
      },
      "source": [
        "training_features = [(get_features_dict(doc),category) for doc,category in training_documents]\n",
        "testing_features = [(get_features_dict(doc),category) for doc,category in testing_documents]"
      ],
      "execution_count": 0,
      "outputs": []
    },
    {
      "cell_type": "code",
      "metadata": {
        "id": "_VtnDow-7NWY",
        "colab_type": "code",
        "colab": {}
      },
      "source": [
        "training_features"
      ],
      "execution_count": 0,
      "outputs": []
    },
    {
      "cell_type": "code",
      "metadata": {
        "id": "3E0jA7hF7NXh",
        "colab_type": "code",
        "colab": {}
      },
      "source": [
        "from nltk import NaiveBayesClassifier"
      ],
      "execution_count": 0,
      "outputs": []
    },
    {
      "cell_type": "code",
      "metadata": {
        "id": "VTq5vCfz7NXn",
        "colab_type": "code",
        "colab": {}
      },
      "source": [
        "classifier = NaiveBayesClassifier.train(training_features)"
      ],
      "execution_count": 0,
      "outputs": []
    },
    {
      "cell_type": "code",
      "metadata": {
        "id": "SXJI5VJ17NXt",
        "colab_type": "code",
        "colab": {
          "base_uri": "https://localhost:8080/",
          "height": 35
        },
        "outputId": "c5741163-dedc-4fd8-8173-1e098d6d1c69"
      },
      "source": [
        "#nltk.classify.accuracy(classifier,training_features)\n",
        "nltk.classify.accuracy(classifier,testing_features)"
      ],
      "execution_count": 48,
      "outputs": [
        {
          "output_type": "execute_result",
          "data": {
            "text/plain": [
              "0.78"
            ]
          },
          "metadata": {
            "tags": []
          },
          "execution_count": 48
        }
      ]
    },
    {
      "cell_type": "code",
      "metadata": {
        "id": "eKN-htgN7NXy",
        "colab_type": "code",
        "colab": {
          "base_uri": "https://localhost:8080/",
          "height": 295
        },
        "outputId": "3efd3783-8e24-4045-cbfa-e753091bd2f7"
      },
      "source": [
        "classifier.show_most_informative_features(15)"
      ],
      "execution_count": 49,
      "outputs": [
        {
          "output_type": "stream",
          "text": [
            "Most Informative Features\n",
            "             outstanding = True              pos : neg    =     13.2 : 1.0\n",
            "             wonderfully = True              pos : neg    =      9.3 : 1.0\n",
            "                 idiotic = True              neg : pos    =      7.9 : 1.0\n",
            "                   jolie = True              neg : pos    =      7.7 : 1.0\n",
            "                 emperor = True              pos : neg    =      7.6 : 1.0\n",
            "                   mulan = True              pos : neg    =      7.6 : 1.0\n",
            "               ludicrous = True              neg : pos    =      7.6 : 1.0\n",
            "              schumacher = True              neg : pos    =      7.0 : 1.0\n",
            "                  seagal = True              neg : pos    =      7.0 : 1.0\n",
            "            breathtaking = True              pos : neg    =      6.5 : 1.0\n",
            "                 garbage = True              neg : pos    =      6.1 : 1.0\n",
            "                   anger = True              pos : neg    =      6.1 : 1.0\n",
            "                    lame = True              neg : pos    =      5.8 : 1.0\n",
            "                 francis = True              pos : neg    =      5.8 : 1.0\n",
            "                     era = True              pos : neg    =      5.8 : 1.0\n"
          ],
          "name": "stdout"
        }
      ]
    },
    {
      "cell_type": "markdown",
      "metadata": {
        "id": "soic8hZI7NX9",
        "colab_type": "text"
      },
      "source": [
        "SVM"
      ]
    },
    {
      "cell_type": "code",
      "metadata": {
        "id": "fDk2Def77NX-",
        "colab_type": "code",
        "colab": {}
      },
      "source": [
        "from sklearn.svm import SVC\n",
        "from nltk.classify.scikitlearn import SklearnClassifier"
      ],
      "execution_count": 0,
      "outputs": []
    },
    {
      "cell_type": "code",
      "metadata": {
        "id": "GrcUvfVU7NYB",
        "colab_type": "code",
        "colab": {}
      },
      "source": [
        "svc = SVC()\n",
        "sklearn_to_nltk_classifier = SklearnClassifier(svc)         #Now input in ( {},cat ) format"
      ],
      "execution_count": 0,
      "outputs": []
    },
    {
      "cell_type": "code",
      "metadata": {
        "id": "q_Qi899y7NYG",
        "colab_type": "code",
        "colab": {
          "base_uri": "https://localhost:8080/",
          "height": 87
        },
        "outputId": "fa552764-627f-4320-d804-084e995ad2ae"
      },
      "source": [
        "sklearn_to_nltk_classifier.train(training_features)"
      ],
      "execution_count": 52,
      "outputs": [
        {
          "output_type": "execute_result",
          "data": {
            "text/plain": [
              "<SklearnClassifier(SVC(C=1.0, break_ties=False, cache_size=200, class_weight=None, coef0=0.0,\n",
              "    decision_function_shape='ovr', degree=3, gamma='scale', kernel='rbf',\n",
              "    max_iter=-1, probability=False, random_state=None, shrinking=True,\n",
              "    tol=0.001, verbose=False))>"
            ]
          },
          "metadata": {
            "tags": []
          },
          "execution_count": 52
        }
      ]
    },
    {
      "cell_type": "code",
      "metadata": {
        "id": "pmqIP4go7NYM",
        "colab_type": "code",
        "colab": {
          "base_uri": "https://localhost:8080/",
          "height": 35
        },
        "outputId": "fe9e9b14-533b-4f5b-da31-329e29a69a08"
      },
      "source": [
        "nltk.classify.accuracy(sklearn_to_nltk_classifier,testing_features)"
      ],
      "execution_count": 53,
      "outputs": [
        {
          "output_type": "execute_result",
          "data": {
            "text/plain": [
              "0.822"
            ]
          },
          "metadata": {
            "tags": []
          },
          "execution_count": 53
        }
      ]
    },
    {
      "cell_type": "markdown",
      "metadata": {
        "id": "rrec23Zz7NYP",
        "colab_type": "text"
      },
      "source": [
        "Random Forest"
      ]
    },
    {
      "cell_type": "code",
      "metadata": {
        "id": "0lv0dG4B7NYP",
        "colab_type": "code",
        "colab": {}
      },
      "source": [
        "from sklearn.ensemble import RandomForestClassifier\n",
        "rfc = RandomForestClassifier(max_depth=5,n_estimators=100)"
      ],
      "execution_count": 0,
      "outputs": []
    },
    {
      "cell_type": "code",
      "metadata": {
        "id": "0omPIB6H7NYR",
        "colab_type": "code",
        "colab": {}
      },
      "source": [
        "#from nltk.classify.scikitlearn import SklearnClassifier\n",
        "sklearn_to_nltk_classifier1 = SklearnClassifier(rfc)   "
      ],
      "execution_count": 0,
      "outputs": []
    },
    {
      "cell_type": "code",
      "metadata": {
        "id": "4KpZI5yk7NYU",
        "colab_type": "code",
        "colab": {
          "base_uri": "https://localhost:8080/",
          "height": 156
        },
        "outputId": "9deff630-47cc-4e15-a3d3-98681ebafa4b"
      },
      "source": [
        "sklearn_to_nltk_classifier1.train(training_features)"
      ],
      "execution_count": 56,
      "outputs": [
        {
          "output_type": "execute_result",
          "data": {
            "text/plain": [
              "<SklearnClassifier(RandomForestClassifier(bootstrap=True, ccp_alpha=0.0, class_weight=None,\n",
              "                       criterion='gini', max_depth=5, max_features='auto',\n",
              "                       max_leaf_nodes=None, max_samples=None,\n",
              "                       min_impurity_decrease=0.0, min_impurity_split=None,\n",
              "                       min_samples_leaf=1, min_samples_split=2,\n",
              "                       min_weight_fraction_leaf=0.0, n_estimators=100,\n",
              "                       n_jobs=None, oob_score=False, random_state=None,\n",
              "                       verbose=0, warm_start=False))>"
            ]
          },
          "metadata": {
            "tags": []
          },
          "execution_count": 56
        }
      ]
    },
    {
      "cell_type": "code",
      "metadata": {
        "id": "vfAkDbea7NYc",
        "colab_type": "code",
        "colab": {
          "base_uri": "https://localhost:8080/",
          "height": 35
        },
        "outputId": "1da5fc74-b9d1-4775-9604-1fb243254425"
      },
      "source": [
        "#nltk.classify.accuracy(sklearn_to_nltk_classifier1,training_features)\n",
        "nltk.classify.accuracy(sklearn_to_nltk_classifier1,testing_features)"
      ],
      "execution_count": 57,
      "outputs": [
        {
          "output_type": "execute_result",
          "data": {
            "text/plain": [
              "0.802"
            ]
          },
          "metadata": {
            "tags": []
          },
          "execution_count": 57
        }
      ]
    },
    {
      "cell_type": "code",
      "metadata": {
        "id": "Rh_Zvs3U7NYg",
        "colab_type": "code",
        "colab": {}
      },
      "source": [
        ""
      ],
      "execution_count": 0,
      "outputs": []
    }
  ]
}